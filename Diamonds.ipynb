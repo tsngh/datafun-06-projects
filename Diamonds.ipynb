{
 "cells": [
  {
   "cell_type": "markdown",
   "metadata": {},
   "source": [
<<<<<<< HEAD
    "## Task 2- Diamonds"
   ]
  },
  {
   "cell_type": "markdown",
   "metadata": {},
   "source": [
    "By: [Tesheena](https://github.com/tsngh/)"
   ]
  },
  {
   "cell_type": "markdown",
   "metadata": {},
   "source": [
    "Date: 10/01/2023"
   ]
  },
  {
   "cell_type": "markdown",
   "metadata": {},
   "source": [
    "Section 1-Load Data"
   ]
  },
  {
   "cell_type": "code",
   "execution_count": 1,
   "metadata": {},
   "outputs": [],
   "source": [
    "import pandas as pd\n",
    "\n",
    "diamonds = pd.read_csv('diamonds.csv', index_col=0)"
   ]
  },
  {
   "cell_type": "markdown",
   "metadata": {},
   "source": [
    "Section 2-View: Display the first 7 rows and the last 7 rows"
   ]
  },
  {
   "cell_type": "code",
   "execution_count": 2,
   "metadata": {},
   "outputs": [
    {
     "data": {
      "text/html": [
       "<div>\n",
       "<style scoped>\n",
       "    .dataframe tbody tr th:only-of-type {\n",
       "        vertical-align: middle;\n",
       "    }\n",
       "\n",
       "    .dataframe tbody tr th {\n",
       "        vertical-align: top;\n",
       "    }\n",
       "\n",
       "    .dataframe thead th {\n",
       "        text-align: right;\n",
       "    }\n",
       "</style>\n",
       "<table border=\"1\" class=\"dataframe\">\n",
       "  <thead>\n",
       "    <tr style=\"text-align: right;\">\n",
       "      <th></th>\n",
       "      <th>carat</th>\n",
       "      <th>cut</th>\n",
       "      <th>color</th>\n",
       "      <th>clarity</th>\n",
       "      <th>depth</th>\n",
       "      <th>table</th>\n",
       "      <th>price</th>\n",
       "      <th>x</th>\n",
       "      <th>y</th>\n",
       "      <th>z</th>\n",
       "    </tr>\n",
       "  </thead>\n",
       "  <tbody>\n",
       "    <tr>\n",
       "      <th>1</th>\n",
       "      <td>0.23</td>\n",
       "      <td>Ideal</td>\n",
       "      <td>E</td>\n",
       "      <td>SI2</td>\n",
       "      <td>61.5</td>\n",
       "      <td>55.0</td>\n",
       "      <td>326</td>\n",
       "      <td>3.95</td>\n",
       "      <td>3.98</td>\n",
       "      <td>2.43</td>\n",
       "    </tr>\n",
       "    <tr>\n",
       "      <th>2</th>\n",
       "      <td>0.21</td>\n",
       "      <td>Premium</td>\n",
       "      <td>E</td>\n",
       "      <td>SI1</td>\n",
       "      <td>59.8</td>\n",
       "      <td>61.0</td>\n",
       "      <td>326</td>\n",
       "      <td>3.89</td>\n",
       "      <td>3.84</td>\n",
       "      <td>2.31</td>\n",
       "    </tr>\n",
       "    <tr>\n",
       "      <th>3</th>\n",
       "      <td>0.23</td>\n",
       "      <td>Good</td>\n",
       "      <td>E</td>\n",
       "      <td>VS1</td>\n",
       "      <td>56.9</td>\n",
       "      <td>65.0</td>\n",
       "      <td>327</td>\n",
       "      <td>4.05</td>\n",
       "      <td>4.07</td>\n",
       "      <td>2.31</td>\n",
       "    </tr>\n",
       "    <tr>\n",
       "      <th>4</th>\n",
       "      <td>0.29</td>\n",
       "      <td>Premium</td>\n",
       "      <td>I</td>\n",
       "      <td>VS2</td>\n",
       "      <td>62.4</td>\n",
       "      <td>58.0</td>\n",
       "      <td>334</td>\n",
       "      <td>4.20</td>\n",
       "      <td>4.23</td>\n",
       "      <td>2.63</td>\n",
       "    </tr>\n",
       "    <tr>\n",
       "      <th>5</th>\n",
       "      <td>0.31</td>\n",
       "      <td>Good</td>\n",
       "      <td>J</td>\n",
       "      <td>SI2</td>\n",
       "      <td>63.3</td>\n",
       "      <td>58.0</td>\n",
       "      <td>335</td>\n",
       "      <td>4.34</td>\n",
       "      <td>4.35</td>\n",
       "      <td>2.75</td>\n",
       "    </tr>\n",
       "    <tr>\n",
       "      <th>6</th>\n",
       "      <td>0.24</td>\n",
       "      <td>Very Good</td>\n",
       "      <td>J</td>\n",
       "      <td>VVS2</td>\n",
       "      <td>62.8</td>\n",
       "      <td>57.0</td>\n",
       "      <td>336</td>\n",
       "      <td>3.94</td>\n",
       "      <td>3.96</td>\n",
       "      <td>2.48</td>\n",
       "    </tr>\n",
       "    <tr>\n",
       "      <th>7</th>\n",
       "      <td>0.24</td>\n",
       "      <td>Very Good</td>\n",
       "      <td>I</td>\n",
       "      <td>VVS1</td>\n",
       "      <td>62.3</td>\n",
       "      <td>57.0</td>\n",
       "      <td>336</td>\n",
       "      <td>3.95</td>\n",
       "      <td>3.98</td>\n",
       "      <td>2.47</td>\n",
       "    </tr>\n",
       "  </tbody>\n",
       "</table>\n",
       "</div>"
      ],
      "text/plain": [
       "   carat        cut color clarity  depth  table  price     x     y     z\n",
       "1   0.23      Ideal     E     SI2   61.5   55.0    326  3.95  3.98  2.43\n",
       "2   0.21    Premium     E     SI1   59.8   61.0    326  3.89  3.84  2.31\n",
       "3   0.23       Good     E     VS1   56.9   65.0    327  4.05  4.07  2.31\n",
       "4   0.29    Premium     I     VS2   62.4   58.0    334  4.20  4.23  2.63\n",
       "5   0.31       Good     J     SI2   63.3   58.0    335  4.34  4.35  2.75\n",
       "6   0.24  Very Good     J    VVS2   62.8   57.0    336  3.94  3.96  2.48\n",
       "7   0.24  Very Good     I    VVS1   62.3   57.0    336  3.95  3.98  2.47"
      ]
     },
     "execution_count": 2,
     "metadata": {},
     "output_type": "execute_result"
    }
   ],
   "source": [
    "diamonds.head(7)"
   ]
  },
  {
   "cell_type": "code",
   "execution_count": 3,
   "metadata": {},
   "outputs": [
    {
     "data": {
      "text/html": [
       "<div>\n",
       "<style scoped>\n",
       "    .dataframe tbody tr th:only-of-type {\n",
       "        vertical-align: middle;\n",
       "    }\n",
       "\n",
       "    .dataframe tbody tr th {\n",
       "        vertical-align: top;\n",
       "    }\n",
       "\n",
       "    .dataframe thead th {\n",
       "        text-align: right;\n",
       "    }\n",
       "</style>\n",
       "<table border=\"1\" class=\"dataframe\">\n",
       "  <thead>\n",
       "    <tr style=\"text-align: right;\">\n",
       "      <th></th>\n",
       "      <th>carat</th>\n",
       "      <th>cut</th>\n",
       "      <th>color</th>\n",
       "      <th>clarity</th>\n",
       "      <th>depth</th>\n",
       "      <th>table</th>\n",
       "      <th>price</th>\n",
       "      <th>x</th>\n",
       "      <th>y</th>\n",
       "      <th>z</th>\n",
       "    </tr>\n",
       "  </thead>\n",
       "  <tbody>\n",
       "    <tr>\n",
       "      <th>53934</th>\n",
       "      <td>0.70</td>\n",
       "      <td>Very Good</td>\n",
       "      <td>E</td>\n",
       "      <td>VS2</td>\n",
       "      <td>61.2</td>\n",
       "      <td>59.0</td>\n",
       "      <td>2757</td>\n",
       "      <td>5.69</td>\n",
       "      <td>5.72</td>\n",
       "      <td>3.49</td>\n",
       "    </tr>\n",
       "    <tr>\n",
       "      <th>53935</th>\n",
       "      <td>0.72</td>\n",
       "      <td>Premium</td>\n",
       "      <td>D</td>\n",
       "      <td>SI1</td>\n",
       "      <td>62.7</td>\n",
       "      <td>59.0</td>\n",
       "      <td>2757</td>\n",
       "      <td>5.69</td>\n",
       "      <td>5.73</td>\n",
       "      <td>3.58</td>\n",
       "    </tr>\n",
       "    <tr>\n",
       "      <th>53936</th>\n",
       "      <td>0.72</td>\n",
       "      <td>Ideal</td>\n",
       "      <td>D</td>\n",
       "      <td>SI1</td>\n",
       "      <td>60.8</td>\n",
       "      <td>57.0</td>\n",
       "      <td>2757</td>\n",
       "      <td>5.75</td>\n",
       "      <td>5.76</td>\n",
       "      <td>3.50</td>\n",
       "    </tr>\n",
       "    <tr>\n",
       "      <th>53937</th>\n",
       "      <td>0.72</td>\n",
       "      <td>Good</td>\n",
       "      <td>D</td>\n",
       "      <td>SI1</td>\n",
       "      <td>63.1</td>\n",
       "      <td>55.0</td>\n",
       "      <td>2757</td>\n",
       "      <td>5.69</td>\n",
       "      <td>5.75</td>\n",
       "      <td>3.61</td>\n",
       "    </tr>\n",
       "    <tr>\n",
       "      <th>53938</th>\n",
       "      <td>0.70</td>\n",
       "      <td>Very Good</td>\n",
       "      <td>D</td>\n",
       "      <td>SI1</td>\n",
       "      <td>62.8</td>\n",
       "      <td>60.0</td>\n",
       "      <td>2757</td>\n",
       "      <td>5.66</td>\n",
       "      <td>5.68</td>\n",
       "      <td>3.56</td>\n",
       "    </tr>\n",
       "    <tr>\n",
       "      <th>53939</th>\n",
       "      <td>0.86</td>\n",
       "      <td>Premium</td>\n",
       "      <td>H</td>\n",
       "      <td>SI2</td>\n",
       "      <td>61.0</td>\n",
       "      <td>58.0</td>\n",
       "      <td>2757</td>\n",
       "      <td>6.15</td>\n",
       "      <td>6.12</td>\n",
       "      <td>3.74</td>\n",
       "    </tr>\n",
       "    <tr>\n",
       "      <th>53940</th>\n",
       "      <td>0.75</td>\n",
       "      <td>Ideal</td>\n",
       "      <td>D</td>\n",
       "      <td>SI2</td>\n",
       "      <td>62.2</td>\n",
       "      <td>55.0</td>\n",
       "      <td>2757</td>\n",
       "      <td>5.83</td>\n",
       "      <td>5.87</td>\n",
       "      <td>3.64</td>\n",
       "    </tr>\n",
       "  </tbody>\n",
       "</table>\n",
       "</div>"
      ],
      "text/plain": [
       "       carat        cut color clarity  depth  table  price     x     y     z\n",
       "53934   0.70  Very Good     E     VS2   61.2   59.0   2757  5.69  5.72  3.49\n",
       "53935   0.72    Premium     D     SI1   62.7   59.0   2757  5.69  5.73  3.58\n",
       "53936   0.72      Ideal     D     SI1   60.8   57.0   2757  5.75  5.76  3.50\n",
       "53937   0.72       Good     D     SI1   63.1   55.0   2757  5.69  5.75  3.61\n",
       "53938   0.70  Very Good     D     SI1   62.8   60.0   2757  5.66  5.68  3.56\n",
       "53939   0.86    Premium     H     SI2   61.0   58.0   2757  6.15  6.12  3.74\n",
       "53940   0.75      Ideal     D     SI2   62.2   55.0   2757  5.83  5.87  3.64"
      ]
     },
     "execution_count": 3,
     "metadata": {},
     "output_type": "execute_result"
    }
   ],
   "source": [
    "diamonds.tail(7)"
   ]
  },
  {
   "cell_type": "markdown",
   "metadata": {},
   "source": [
    "Section 3-Describe: Use the DataFrame describe() function tocalculate basic descriptive statistics for all numeric columns. "
   ]
  },
  {
   "cell_type": "code",
   "execution_count": 8,
   "metadata": {},
   "outputs": [
    {
     "data": {
      "text/html": [
       "<div>\n",
       "<style scoped>\n",
       "    .dataframe tbody tr th:only-of-type {\n",
       "        vertical-align: middle;\n",
       "    }\n",
       "\n",
       "    .dataframe tbody tr th {\n",
       "        vertical-align: top;\n",
       "    }\n",
       "\n",
       "    .dataframe thead th {\n",
       "        text-align: right;\n",
       "    }\n",
       "</style>\n",
       "<table border=\"1\" class=\"dataframe\">\n",
       "  <thead>\n",
       "    <tr style=\"text-align: right;\">\n",
       "      <th></th>\n",
       "      <th>carat</th>\n",
       "      <th>depth</th>\n",
       "      <th>table</th>\n",
       "      <th>price</th>\n",
       "      <th>x</th>\n",
       "      <th>y</th>\n",
       "      <th>z</th>\n",
       "    </tr>\n",
       "  </thead>\n",
       "  <tbody>\n",
       "    <tr>\n",
       "      <th>count</th>\n",
       "      <td>53940.00</td>\n",
       "      <td>53940.00</td>\n",
       "      <td>53940.00</td>\n",
       "      <td>53940.00</td>\n",
       "      <td>53940.00</td>\n",
       "      <td>53940.00</td>\n",
       "      <td>53940.00</td>\n",
       "    </tr>\n",
       "    <tr>\n",
       "      <th>mean</th>\n",
       "      <td>0.80</td>\n",
       "      <td>61.75</td>\n",
       "      <td>57.46</td>\n",
       "      <td>3932.80</td>\n",
       "      <td>5.73</td>\n",
       "      <td>5.73</td>\n",
       "      <td>3.54</td>\n",
       "    </tr>\n",
       "    <tr>\n",
       "      <th>std</th>\n",
       "      <td>0.47</td>\n",
       "      <td>1.43</td>\n",
       "      <td>2.23</td>\n",
       "      <td>3989.44</td>\n",
       "      <td>1.12</td>\n",
       "      <td>1.14</td>\n",
       "      <td>0.71</td>\n",
       "    </tr>\n",
       "    <tr>\n",
       "      <th>min</th>\n",
       "      <td>0.20</td>\n",
       "      <td>43.00</td>\n",
       "      <td>43.00</td>\n",
       "      <td>326.00</td>\n",
       "      <td>0.00</td>\n",
       "      <td>0.00</td>\n",
       "      <td>0.00</td>\n",
       "    </tr>\n",
       "    <tr>\n",
       "      <th>25%</th>\n",
       "      <td>0.40</td>\n",
       "      <td>61.00</td>\n",
       "      <td>56.00</td>\n",
       "      <td>950.00</td>\n",
       "      <td>4.71</td>\n",
       "      <td>4.72</td>\n",
       "      <td>2.91</td>\n",
       "    </tr>\n",
       "    <tr>\n",
       "      <th>50%</th>\n",
       "      <td>0.70</td>\n",
       "      <td>61.80</td>\n",
       "      <td>57.00</td>\n",
       "      <td>2401.00</td>\n",
       "      <td>5.70</td>\n",
       "      <td>5.71</td>\n",
       "      <td>3.53</td>\n",
       "    </tr>\n",
       "    <tr>\n",
       "      <th>75%</th>\n",
       "      <td>1.04</td>\n",
       "      <td>62.50</td>\n",
       "      <td>59.00</td>\n",
       "      <td>5324.25</td>\n",
       "      <td>6.54</td>\n",
       "      <td>6.54</td>\n",
       "      <td>4.04</td>\n",
       "    </tr>\n",
       "    <tr>\n",
       "      <th>max</th>\n",
       "      <td>5.01</td>\n",
       "      <td>79.00</td>\n",
       "      <td>95.00</td>\n",
       "      <td>18823.00</td>\n",
       "      <td>10.74</td>\n",
       "      <td>58.90</td>\n",
       "      <td>31.80</td>\n",
       "    </tr>\n",
       "  </tbody>\n",
       "</table>\n",
       "</div>"
      ],
      "text/plain": [
       "          carat     depth     table     price         x         y         z\n",
       "count  53940.00  53940.00  53940.00  53940.00  53940.00  53940.00  53940.00\n",
       "mean       0.80     61.75     57.46   3932.80      5.73      5.73      3.54\n",
       "std        0.47      1.43      2.23   3989.44      1.12      1.14      0.71\n",
       "min        0.20     43.00     43.00    326.00      0.00      0.00      0.00\n",
       "25%        0.40     61.00     56.00    950.00      4.71      4.72      2.91\n",
       "50%        0.70     61.80     57.00   2401.00      5.70      5.71      3.53\n",
       "75%        1.04     62.50     59.00   5324.25      6.54      6.54      4.04\n",
       "max        5.01     79.00     95.00  18823.00     10.74     58.90     31.80"
      ]
     },
     "execution_count": 8,
     "metadata": {},
     "output_type": "execute_result"
    }
   ],
   "source": [
    "pd.set_option('display.precision', 2)\n",
    "diamonds.describe()"
   ]
  },
  {
   "cell_type": "markdown",
   "metadata": {},
   "source": [
    "Section 4-Series: Use the Series method describe() to calculate the descriptive stats for all category/text columns."
   ]
  },
  {
   "cell_type": "code",
   "execution_count": 13,
   "metadata": {},
   "outputs": [
    {
     "data": {
      "text/html": [
       "<div>\n",
       "<style scoped>\n",
       "    .dataframe tbody tr th:only-of-type {\n",
       "        vertical-align: middle;\n",
       "    }\n",
       "\n",
       "    .dataframe tbody tr th {\n",
       "        vertical-align: top;\n",
       "    }\n",
       "\n",
       "    .dataframe thead th {\n",
       "        text-align: right;\n",
       "    }\n",
       "</style>\n",
       "<table border=\"1\" class=\"dataframe\">\n",
       "  <thead>\n",
       "    <tr style=\"text-align: right;\">\n",
       "      <th></th>\n",
       "      <th>cut</th>\n",
       "      <th>color</th>\n",
       "      <th>clarity</th>\n",
       "    </tr>\n",
       "  </thead>\n",
       "  <tbody>\n",
       "    <tr>\n",
       "      <th>count</th>\n",
       "      <td>53940</td>\n",
       "      <td>53940</td>\n",
       "      <td>53940</td>\n",
       "    </tr>\n",
       "    <tr>\n",
       "      <th>unique</th>\n",
       "      <td>5</td>\n",
       "      <td>7</td>\n",
       "      <td>8</td>\n",
       "    </tr>\n",
       "    <tr>\n",
       "      <th>top</th>\n",
       "      <td>Ideal</td>\n",
       "      <td>G</td>\n",
       "      <td>SI1</td>\n",
       "    </tr>\n",
       "    <tr>\n",
       "      <th>freq</th>\n",
       "      <td>21551</td>\n",
       "      <td>11292</td>\n",
       "      <td>13065</td>\n",
       "    </tr>\n",
       "  </tbody>\n",
       "</table>\n",
       "</div>"
      ],
      "text/plain": [
       "          cut  color clarity\n",
       "count   53940  53940   53940\n",
       "unique      5      7       8\n",
       "top     Ideal      G     SI1\n",
       "freq    21551  11292   13065"
      ]
     },
     "execution_count": 13,
     "metadata": {},
     "output_type": "execute_result"
    }
   ],
   "source": [
    "diamonds.describe(include='object')"
   ]
  },
  {
   "cell_type": "markdown",
   "metadata": {},
   "source": [
    "Section 4-Series: Use the Series method describe() to calculate the descriptive stats for all category/text columns."
   ]
  },
  {
   "cell_type": "code",
   "execution_count": 14,
   "metadata": {},
   "outputs": [
    {
     "data": {
      "text/plain": [
       "array(['Ideal', 'Premium', 'Good', 'Very Good', 'Fair'], dtype=object)"
      ]
     },
     "execution_count": 14,
     "metadata": {},
     "output_type": "execute_result"
    }
   ],
   "source": [
    "(diamonds.cut).unique()"
   ]
  },
  {
   "cell_type": "code",
   "execution_count": 15,
   "metadata": {},
   "outputs": [
    {
     "data": {
      "text/plain": [
       "array(['E', 'I', 'J', 'H', 'F', 'G', 'D'], dtype=object)"
      ]
     },
     "execution_count": 15,
     "metadata": {},
     "output_type": "execute_result"
    }
   ],
   "source": [
    "(diamonds.color).unique()"
   ]
  },
  {
   "cell_type": "code",
   "execution_count": 16,
   "metadata": {},
   "outputs": [
    {
     "data": {
      "text/plain": [
       "array(['SI2', 'SI1', 'VS1', 'VS2', 'VVS2', 'VVS1', 'I1', 'IF'],\n",
       "      dtype=object)"
      ]
     },
     "execution_count": 16,
     "metadata": {},
     "output_type": "execute_result"
    }
   ],
   "source": [
    "(diamonds.clarity).unique()"
   ]
  },
  {
   "cell_type": "markdown",
   "metadata": {},
   "source": [
    "Section 6-Histograms: Use the DataFrame's hist() function to create a histogram for each numerical column."
   ]
  },
  {
   "cell_type": "code",
   "execution_count": 21,
   "metadata": {},
   "outputs": [
    {
     "data": {
      "text/plain": [
       "array([[<Axes: title={'center': 'carat'}>,\n",
       "        <Axes: title={'center': 'depth'}>,\n",
       "        <Axes: title={'center': 'table'}>],\n",
       "       [<Axes: title={'center': 'price'}>, <Axes: title={'center': 'x'}>,\n",
       "        <Axes: title={'center': 'y'}>],\n",
       "       [<Axes: title={'center': 'z'}>, <Axes: >, <Axes: >]], dtype=object)"
      ]
     },
     "execution_count": 21,
     "metadata": {},
     "output_type": "execute_result"
    },
    {
     "data": {
      "image/png": "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",
      "text/plain": [
       "<Figure size 1200x1000 with 9 Axes>"
      ]
     },
     "metadata": {},
     "output_type": "display_data"
    }
   ],
   "source": [
    "%matplotlib inline\n",
    "\n",
    "diamonds.hist(figsize=(12, 10))"
=======
    "Task 2- Diamonds"
>>>>>>> 63b1bffe8cfec533b2d600d00e97a80966c9b87e
   ]
  }
 ],
 "metadata": {
<<<<<<< HEAD
  "kernelspec": {
   "display_name": ".venv",
   "language": "python",
   "name": "python3"
  },
  "language_info": {
   "codemirror_mode": {
    "name": "ipython",
    "version": 3
   },
   "file_extension": ".py",
   "mimetype": "text/x-python",
   "name": "python",
   "nbconvert_exporter": "python",
   "pygments_lexer": "ipython3",
   "version": "3.11.4"
=======
  "language_info": {
   "name": "python"
>>>>>>> 63b1bffe8cfec533b2d600d00e97a80966c9b87e
  },
  "orig_nbformat": 4
 },
 "nbformat": 4,
 "nbformat_minor": 2
}
